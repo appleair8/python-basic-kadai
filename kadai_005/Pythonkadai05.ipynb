{
  "nbformat": 4,
  "nbformat_minor": 0,
  "metadata": {
    "colab": {
      "provenance": []
    },
    "kernelspec": {
      "name": "python3",
      "display_name": "Python 3"
    },
    "language_info": {
      "name": "python"
    }
  },
  "cells": [
    {
      "cell_type": "code",
      "source": [
        "print(str((10 + 20) * 5 / 2)  + \"㎠\")\n"
      ],
      "metadata": {
        "colab": {
          "base_uri": "https://localhost:8080/"
        },
        "id": "aub5zEPF0IE_",
        "outputId": "39325c05-1aa8-464d-f2bb-a1ea8fb54fcc"
      },
      "execution_count": null,
      "outputs": [
        {
          "output_type": "stream",
          "name": "stdout",
          "text": [
            "75.0㎠\n"
          ]
        }
      ]
    },
    {
      "cell_type": "code",
      "source": [
        "user_names =[\"侍太郎\",\"侍一郎\",\"侍二郎\",\"侍三郎\",\"侍四郎\"]\n",
        "user_ages =[36,33,29,25,22]\n",
        "user_names.append(\"侍五郎\")\n",
        "user_names.pop(2)\n",
        "print(user_names)\n",
        "\n",
        "\n"
      ],
      "metadata": {
        "colab": {
          "base_uri": "https://localhost:8080/"
        },
        "id": "but7-Jp162JJ",
        "outputId": "ac125564-ee2d-4da1-cc72-f77f92479fd7"
      },
      "execution_count": 3,
      "outputs": [
        {
          "output_type": "stream",
          "name": "stdout",
          "text": [
            "['侍太郎', '侍一郎', '侍三郎', '侍四郎', '侍五郎']\n"
          ]
        }
      ]
    },
    {
      "cell_type": "code",
      "source": [
        "country_names=(\"日本\",\"アメリカ\",\"イギリス\",\"フランス\")\n",
        "print(country_names[2])\n",
        "print(country_names)\n"
      ],
      "metadata": {
        "colab": {
          "base_uri": "https://localhost:8080/"
        },
        "id": "9lHubRr48M-b",
        "outputId": "7d6f7d51-1a61-4180-9756-9771da30b7b4"
      },
      "execution_count": 4,
      "outputs": [
        {
          "output_type": "stream",
          "name": "stdout",
          "text": [
            "イギリス\n",
            "('日本', 'アメリカ', 'イギリス', 'フランス')\n"
          ]
        }
      ]
    },
    {
      "cell_type": "code",
      "source": [
        "prime_numbers={2,3,5,7}\n",
        "print(prime_numbers)\n",
        "prime_numbers.add(11)\n",
        "print(prime_numbers)\n",
        "\n",
        "prime_numbers.remove(3)\n",
        "print(prime_numbers)\n"
      ],
      "metadata": {
        "colab": {
          "base_uri": "https://localhost:8080/"
        },
        "id": "Uyp-pIC68yi3",
        "outputId": "b00ea345-f7a2-4185-e09e-3c9a645c6cf7"
      },
      "execution_count": 11,
      "outputs": [
        {
          "output_type": "stream",
          "name": "stdout",
          "text": [
            "{2, 3, 5, 7}\n",
            "{2, 3, 5, 7, 11}\n",
            "{2, 5, 7, 11}\n"
          ]
        }
      ]
    }
  ]
}